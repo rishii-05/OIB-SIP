{
 "cells": [
  {
   "cell_type": "markdown",
   "id": "ddac3e27",
   "metadata": {},
   "source": [
    "# CAR PRICE PREDICTION WITH MACHINE LEARNING"
   ]
  },
  {
   "cell_type": "markdown",
   "id": "dd4bdca8",
   "metadata": {},
   "source": [
    "### Import Libraries"
   ]
  },
  {
   "cell_type": "code",
   "execution_count": 91,
   "id": "a2a5e6a0",
   "metadata": {},
   "outputs": [],
   "source": [
    "# for data processing & data wrangling\n",
    "import numpy as np\n",
    "import pandas as pd\n",
    "# for visualization\n",
    "import matplotlib.pyplot as plt\n",
    "import seaborn as sns\n",
    "# model selection libraries\n",
    "from sklearn.model_selection import train_test_split\n",
    "# for ML Model implementation\n",
    "from sklearn.linear_model import LinearRegression\n",
    "from sklearn.linear_model import Lasso\n",
    "from sklearn.ensemble import RandomForestRegressor\n",
    "# evaluation metric libraries\n",
    "from sklearn import metrics"
   ]
  },
  {
   "cell_type": "markdown",
   "id": "6c0b0fcd",
   "metadata": {},
   "source": [
    "### Dataset"
   ]
  },
  {
   "cell_type": "code",
   "execution_count": 92,
   "id": "6fb9385f",
   "metadata": {},
   "outputs": [
    {
     "data": {
      "text/html": [
       "<div>\n",
       "<style scoped>\n",
       "    .dataframe tbody tr th:only-of-type {\n",
       "        vertical-align: middle;\n",
       "    }\n",
       "\n",
       "    .dataframe tbody tr th {\n",
       "        vertical-align: top;\n",
       "    }\n",
       "\n",
       "    .dataframe thead th {\n",
       "        text-align: right;\n",
       "    }\n",
       "</style>\n",
       "<table border=\"1\" class=\"dataframe\">\n",
       "  <thead>\n",
       "    <tr style=\"text-align: right;\">\n",
       "      <th></th>\n",
       "      <th>Car_Name</th>\n",
       "      <th>Year</th>\n",
       "      <th>Selling_Price</th>\n",
       "      <th>Present_Price</th>\n",
       "      <th>Driven_kms</th>\n",
       "      <th>Fuel_Type</th>\n",
       "      <th>Selling_type</th>\n",
       "      <th>Transmission</th>\n",
       "      <th>Owner</th>\n",
       "    </tr>\n",
       "  </thead>\n",
       "  <tbody>\n",
       "    <tr>\n",
       "      <th>0</th>\n",
       "      <td>ritz</td>\n",
       "      <td>2014</td>\n",
       "      <td>3.35</td>\n",
       "      <td>5.59</td>\n",
       "      <td>27000</td>\n",
       "      <td>Petrol</td>\n",
       "      <td>Dealer</td>\n",
       "      <td>Manual</td>\n",
       "      <td>0</td>\n",
       "    </tr>\n",
       "    <tr>\n",
       "      <th>1</th>\n",
       "      <td>sx4</td>\n",
       "      <td>2013</td>\n",
       "      <td>4.75</td>\n",
       "      <td>9.54</td>\n",
       "      <td>43000</td>\n",
       "      <td>Diesel</td>\n",
       "      <td>Dealer</td>\n",
       "      <td>Manual</td>\n",
       "      <td>0</td>\n",
       "    </tr>\n",
       "    <tr>\n",
       "      <th>2</th>\n",
       "      <td>ciaz</td>\n",
       "      <td>2017</td>\n",
       "      <td>7.25</td>\n",
       "      <td>9.85</td>\n",
       "      <td>6900</td>\n",
       "      <td>Petrol</td>\n",
       "      <td>Dealer</td>\n",
       "      <td>Manual</td>\n",
       "      <td>0</td>\n",
       "    </tr>\n",
       "    <tr>\n",
       "      <th>3</th>\n",
       "      <td>wagon r</td>\n",
       "      <td>2011</td>\n",
       "      <td>2.85</td>\n",
       "      <td>4.15</td>\n",
       "      <td>5200</td>\n",
       "      <td>Petrol</td>\n",
       "      <td>Dealer</td>\n",
       "      <td>Manual</td>\n",
       "      <td>0</td>\n",
       "    </tr>\n",
       "    <tr>\n",
       "      <th>4</th>\n",
       "      <td>swift</td>\n",
       "      <td>2014</td>\n",
       "      <td>4.60</td>\n",
       "      <td>6.87</td>\n",
       "      <td>42450</td>\n",
       "      <td>Diesel</td>\n",
       "      <td>Dealer</td>\n",
       "      <td>Manual</td>\n",
       "      <td>0</td>\n",
       "    </tr>\n",
       "  </tbody>\n",
       "</table>\n",
       "</div>"
      ],
      "text/plain": [
       "  Car_Name  Year  Selling_Price  Present_Price  Driven_kms Fuel_Type  \\\n",
       "0     ritz  2014           3.35           5.59       27000    Petrol   \n",
       "1      sx4  2013           4.75           9.54       43000    Diesel   \n",
       "2     ciaz  2017           7.25           9.85        6900    Petrol   \n",
       "3  wagon r  2011           2.85           4.15        5200    Petrol   \n",
       "4    swift  2014           4.60           6.87       42450    Diesel   \n",
       "\n",
       "  Selling_type Transmission  Owner  \n",
       "0       Dealer       Manual      0  \n",
       "1       Dealer       Manual      0  \n",
       "2       Dealer       Manual      0  \n",
       "3       Dealer       Manual      0  \n",
       "4       Dealer       Manual      0  "
      ]
     },
     "execution_count": 92,
     "metadata": {},
     "output_type": "execute_result"
    }
   ],
   "source": [
    "# Load\n",
    "ds = pd.read_csv(\"car data.csv\")\n",
    "# First View\n",
    "ds.head()"
   ]
  },
  {
   "cell_type": "code",
   "execution_count": 93,
   "id": "c243d295",
   "metadata": {},
   "outputs": [
    {
     "data": {
      "text/plain": [
       "(301, 9)"
      ]
     },
     "execution_count": 93,
     "metadata": {},
     "output_type": "execute_result"
    }
   ],
   "source": [
    "# Rows and Columns count\n",
    "ds.shape"
   ]
  },
  {
   "cell_type": "markdown",
   "id": "4d0c07d2",
   "metadata": {},
   "source": [
    "#### Columns "
   ]
  },
  {
   "cell_type": "code",
   "execution_count": 94,
   "id": "c3f7f397",
   "metadata": {},
   "outputs": [
    {
     "data": {
      "text/plain": [
       "Index(['Car_Name', 'Year', 'Selling_Price', 'Present_Price', 'Driven_kms',\n",
       "       'Fuel_Type', 'Selling_type', 'Transmission', 'Owner'],\n",
       "      dtype='object')"
      ]
     },
     "execution_count": 94,
     "metadata": {},
     "output_type": "execute_result"
    }
   ],
   "source": [
    "ds.columns"
   ]
  },
  {
   "cell_type": "markdown",
   "id": "b1a7a7ad",
   "metadata": {},
   "source": [
    "#### Discription"
   ]
  },
  {
   "cell_type": "code",
   "execution_count": 95,
   "id": "5105787b",
   "metadata": {},
   "outputs": [
    {
     "data": {
      "text/html": [
       "<div>\n",
       "<style scoped>\n",
       "    .dataframe tbody tr th:only-of-type {\n",
       "        vertical-align: middle;\n",
       "    }\n",
       "\n",
       "    .dataframe tbody tr th {\n",
       "        vertical-align: top;\n",
       "    }\n",
       "\n",
       "    .dataframe thead th {\n",
       "        text-align: right;\n",
       "    }\n",
       "</style>\n",
       "<table border=\"1\" class=\"dataframe\">\n",
       "  <thead>\n",
       "    <tr style=\"text-align: right;\">\n",
       "      <th></th>\n",
       "      <th>Car_Name</th>\n",
       "      <th>Year</th>\n",
       "      <th>Selling_Price</th>\n",
       "      <th>Present_Price</th>\n",
       "      <th>Driven_kms</th>\n",
       "      <th>Fuel_Type</th>\n",
       "      <th>Selling_type</th>\n",
       "      <th>Transmission</th>\n",
       "      <th>Owner</th>\n",
       "    </tr>\n",
       "  </thead>\n",
       "  <tbody>\n",
       "    <tr>\n",
       "      <th>count</th>\n",
       "      <td>301</td>\n",
       "      <td>301.00</td>\n",
       "      <td>301.00</td>\n",
       "      <td>301.00</td>\n",
       "      <td>301.00</td>\n",
       "      <td>301</td>\n",
       "      <td>301</td>\n",
       "      <td>301</td>\n",
       "      <td>301.00</td>\n",
       "    </tr>\n",
       "    <tr>\n",
       "      <th>unique</th>\n",
       "      <td>98</td>\n",
       "      <td>NaN</td>\n",
       "      <td>NaN</td>\n",
       "      <td>NaN</td>\n",
       "      <td>NaN</td>\n",
       "      <td>3</td>\n",
       "      <td>2</td>\n",
       "      <td>2</td>\n",
       "      <td>NaN</td>\n",
       "    </tr>\n",
       "    <tr>\n",
       "      <th>top</th>\n",
       "      <td>city</td>\n",
       "      <td>NaN</td>\n",
       "      <td>NaN</td>\n",
       "      <td>NaN</td>\n",
       "      <td>NaN</td>\n",
       "      <td>Petrol</td>\n",
       "      <td>Dealer</td>\n",
       "      <td>Manual</td>\n",
       "      <td>NaN</td>\n",
       "    </tr>\n",
       "    <tr>\n",
       "      <th>freq</th>\n",
       "      <td>26</td>\n",
       "      <td>NaN</td>\n",
       "      <td>NaN</td>\n",
       "      <td>NaN</td>\n",
       "      <td>NaN</td>\n",
       "      <td>239</td>\n",
       "      <td>195</td>\n",
       "      <td>261</td>\n",
       "      <td>NaN</td>\n",
       "    </tr>\n",
       "    <tr>\n",
       "      <th>mean</th>\n",
       "      <td>NaN</td>\n",
       "      <td>2013.63</td>\n",
       "      <td>4.66</td>\n",
       "      <td>7.63</td>\n",
       "      <td>36947.21</td>\n",
       "      <td>NaN</td>\n",
       "      <td>NaN</td>\n",
       "      <td>NaN</td>\n",
       "      <td>0.04</td>\n",
       "    </tr>\n",
       "    <tr>\n",
       "      <th>std</th>\n",
       "      <td>NaN</td>\n",
       "      <td>2.89</td>\n",
       "      <td>5.08</td>\n",
       "      <td>8.64</td>\n",
       "      <td>38886.88</td>\n",
       "      <td>NaN</td>\n",
       "      <td>NaN</td>\n",
       "      <td>NaN</td>\n",
       "      <td>0.25</td>\n",
       "    </tr>\n",
       "    <tr>\n",
       "      <th>min</th>\n",
       "      <td>NaN</td>\n",
       "      <td>2003.00</td>\n",
       "      <td>0.10</td>\n",
       "      <td>0.32</td>\n",
       "      <td>500.00</td>\n",
       "      <td>NaN</td>\n",
       "      <td>NaN</td>\n",
       "      <td>NaN</td>\n",
       "      <td>0.00</td>\n",
       "    </tr>\n",
       "    <tr>\n",
       "      <th>25%</th>\n",
       "      <td>NaN</td>\n",
       "      <td>2012.00</td>\n",
       "      <td>0.90</td>\n",
       "      <td>1.20</td>\n",
       "      <td>15000.00</td>\n",
       "      <td>NaN</td>\n",
       "      <td>NaN</td>\n",
       "      <td>NaN</td>\n",
       "      <td>0.00</td>\n",
       "    </tr>\n",
       "    <tr>\n",
       "      <th>50%</th>\n",
       "      <td>NaN</td>\n",
       "      <td>2014.00</td>\n",
       "      <td>3.60</td>\n",
       "      <td>6.40</td>\n",
       "      <td>32000.00</td>\n",
       "      <td>NaN</td>\n",
       "      <td>NaN</td>\n",
       "      <td>NaN</td>\n",
       "      <td>0.00</td>\n",
       "    </tr>\n",
       "    <tr>\n",
       "      <th>75%</th>\n",
       "      <td>NaN</td>\n",
       "      <td>2016.00</td>\n",
       "      <td>6.00</td>\n",
       "      <td>9.90</td>\n",
       "      <td>48767.00</td>\n",
       "      <td>NaN</td>\n",
       "      <td>NaN</td>\n",
       "      <td>NaN</td>\n",
       "      <td>0.00</td>\n",
       "    </tr>\n",
       "    <tr>\n",
       "      <th>max</th>\n",
       "      <td>NaN</td>\n",
       "      <td>2018.00</td>\n",
       "      <td>35.00</td>\n",
       "      <td>92.60</td>\n",
       "      <td>500000.00</td>\n",
       "      <td>NaN</td>\n",
       "      <td>NaN</td>\n",
       "      <td>NaN</td>\n",
       "      <td>3.00</td>\n",
       "    </tr>\n",
       "  </tbody>\n",
       "</table>\n",
       "</div>"
      ],
      "text/plain": [
       "       Car_Name     Year  Selling_Price  Present_Price  Driven_kms Fuel_Type  \\\n",
       "count       301   301.00         301.00         301.00      301.00       301   \n",
       "unique       98      NaN            NaN            NaN         NaN         3   \n",
       "top        city      NaN            NaN            NaN         NaN    Petrol   \n",
       "freq         26      NaN            NaN            NaN         NaN       239   \n",
       "mean        NaN  2013.63           4.66           7.63    36947.21       NaN   \n",
       "std         NaN     2.89           5.08           8.64    38886.88       NaN   \n",
       "min         NaN  2003.00           0.10           0.32      500.00       NaN   \n",
       "25%         NaN  2012.00           0.90           1.20    15000.00       NaN   \n",
       "50%         NaN  2014.00           3.60           6.40    32000.00       NaN   \n",
       "75%         NaN  2016.00           6.00           9.90    48767.00       NaN   \n",
       "max         NaN  2018.00          35.00          92.60   500000.00       NaN   \n",
       "\n",
       "       Selling_type Transmission   Owner  \n",
       "count           301          301  301.00  \n",
       "unique            2            2     NaN  \n",
       "top          Dealer       Manual     NaN  \n",
       "freq            195          261     NaN  \n",
       "mean            NaN          NaN    0.04  \n",
       "std             NaN          NaN    0.25  \n",
       "min             NaN          NaN    0.00  \n",
       "25%             NaN          NaN    0.00  \n",
       "50%             NaN          NaN    0.00  \n",
       "75%             NaN          NaN    0.00  \n",
       "max             NaN          NaN    3.00  "
      ]
     },
     "execution_count": 95,
     "metadata": {},
     "output_type": "execute_result"
    }
   ],
   "source": [
    "ds.describe(include= 'all').round(2)"
   ]
  },
  {
   "cell_type": "markdown",
   "id": "25d3df72",
   "metadata": {},
   "source": [
    "#### Duplicate Values"
   ]
  },
  {
   "cell_type": "code",
   "execution_count": 96,
   "id": "ab7593d0",
   "metadata": {},
   "outputs": [
    {
     "name": "stdout",
     "output_type": "stream",
     "text": [
      "number of duplicated rows are 2\n"
     ]
    }
   ],
   "source": [
    "dup = ds.duplicated().sum()\n",
    "print(f'number of duplicated rows are {dup}')"
   ]
  },
  {
   "cell_type": "markdown",
   "id": "836ea56b",
   "metadata": {},
   "source": [
    "#### Null Values"
   ]
  },
  {
   "cell_type": "code",
   "execution_count": 97,
   "id": "69ec64f0",
   "metadata": {},
   "outputs": [
    {
     "data": {
      "text/plain": [
       "Car_Name         0\n",
       "Year             0\n",
       "Selling_Price    0\n",
       "Present_Price    0\n",
       "Driven_kms       0\n",
       "Fuel_Type        0\n",
       "Selling_type     0\n",
       "Transmission     0\n",
       "Owner            0\n",
       "dtype: int64"
      ]
     },
     "execution_count": 97,
     "metadata": {},
     "output_type": "execute_result"
    }
   ],
   "source": [
    "ds.isnull().sum()"
   ]
  },
  {
   "cell_type": "markdown",
   "id": "5136f7e6",
   "metadata": {},
   "source": [
    "### Data Pre-processing"
   ]
  },
  {
   "cell_type": "markdown",
   "id": "a68e490a",
   "metadata": {},
   "source": [
    "#### Categorical Data"
   ]
  },
  {
   "cell_type": "code",
   "execution_count": 98,
   "id": "727c5443",
   "metadata": {},
   "outputs": [
    {
     "name": "stdout",
     "output_type": "stream",
     "text": [
      "Fuel_Type\n",
      "Petrol    239\n",
      "Diesel     60\n",
      "CNG         2\n",
      "Name: count, dtype: int64\n"
     ]
    }
   ],
   "source": [
    "print(ds.Fuel_Type.value_counts())"
   ]
  },
  {
   "cell_type": "code",
   "execution_count": 99,
   "id": "49adaac1",
   "metadata": {},
   "outputs": [
    {
     "name": "stdout",
     "output_type": "stream",
     "text": [
      "Selling_type\n",
      "Dealer        195\n",
      "Individual    106\n",
      "Name: count, dtype: int64\n"
     ]
    }
   ],
   "source": [
    "print(ds.Selling_type.value_counts())"
   ]
  },
  {
   "cell_type": "code",
   "execution_count": 100,
   "id": "93192012",
   "metadata": {},
   "outputs": [
    {
     "name": "stdout",
     "output_type": "stream",
     "text": [
      "Transmission\n",
      "Manual       261\n",
      "Automatic     40\n",
      "Name: count, dtype: int64\n"
     ]
    }
   ],
   "source": [
    "print(ds.Transmission.value_counts())"
   ]
  },
  {
   "cell_type": "markdown",
   "id": "f86e2881",
   "metadata": {},
   "source": [
    "#### Categorical Encoding"
   ]
  },
  {
   "cell_type": "code",
   "execution_count": 101,
   "id": "662b1d11",
   "metadata": {},
   "outputs": [],
   "source": [
    "ds.replace({'Fuel_Type':{'Petrol':0,'Diesel':1,'CNG':2}},inplace=True)\n",
    "ds.replace({'Selling_type':{'Dealer':0,'Individual':1}},inplace=True)\n",
    "ds.replace({'Transmission':{'Manual':0,'Automatic':1}},inplace=True)"
   ]
  },
  {
   "cell_type": "code",
   "execution_count": 102,
   "id": "9456ef71",
   "metadata": {},
   "outputs": [
    {
     "data": {
      "text/html": [
       "<div>\n",
       "<style scoped>\n",
       "    .dataframe tbody tr th:only-of-type {\n",
       "        vertical-align: middle;\n",
       "    }\n",
       "\n",
       "    .dataframe tbody tr th {\n",
       "        vertical-align: top;\n",
       "    }\n",
       "\n",
       "    .dataframe thead th {\n",
       "        text-align: right;\n",
       "    }\n",
       "</style>\n",
       "<table border=\"1\" class=\"dataframe\">\n",
       "  <thead>\n",
       "    <tr style=\"text-align: right;\">\n",
       "      <th></th>\n",
       "      <th>Car_Name</th>\n",
       "      <th>Year</th>\n",
       "      <th>Selling_Price</th>\n",
       "      <th>Present_Price</th>\n",
       "      <th>Driven_kms</th>\n",
       "      <th>Fuel_Type</th>\n",
       "      <th>Selling_type</th>\n",
       "      <th>Transmission</th>\n",
       "      <th>Owner</th>\n",
       "    </tr>\n",
       "  </thead>\n",
       "  <tbody>\n",
       "    <tr>\n",
       "      <th>0</th>\n",
       "      <td>ritz</td>\n",
       "      <td>2014</td>\n",
       "      <td>3.35</td>\n",
       "      <td>5.59</td>\n",
       "      <td>27000</td>\n",
       "      <td>0</td>\n",
       "      <td>0</td>\n",
       "      <td>0</td>\n",
       "      <td>0</td>\n",
       "    </tr>\n",
       "    <tr>\n",
       "      <th>1</th>\n",
       "      <td>sx4</td>\n",
       "      <td>2013</td>\n",
       "      <td>4.75</td>\n",
       "      <td>9.54</td>\n",
       "      <td>43000</td>\n",
       "      <td>1</td>\n",
       "      <td>0</td>\n",
       "      <td>0</td>\n",
       "      <td>0</td>\n",
       "    </tr>\n",
       "    <tr>\n",
       "      <th>2</th>\n",
       "      <td>ciaz</td>\n",
       "      <td>2017</td>\n",
       "      <td>7.25</td>\n",
       "      <td>9.85</td>\n",
       "      <td>6900</td>\n",
       "      <td>0</td>\n",
       "      <td>0</td>\n",
       "      <td>0</td>\n",
       "      <td>0</td>\n",
       "    </tr>\n",
       "    <tr>\n",
       "      <th>3</th>\n",
       "      <td>wagon r</td>\n",
       "      <td>2011</td>\n",
       "      <td>2.85</td>\n",
       "      <td>4.15</td>\n",
       "      <td>5200</td>\n",
       "      <td>0</td>\n",
       "      <td>0</td>\n",
       "      <td>0</td>\n",
       "      <td>0</td>\n",
       "    </tr>\n",
       "    <tr>\n",
       "      <th>4</th>\n",
       "      <td>swift</td>\n",
       "      <td>2014</td>\n",
       "      <td>4.60</td>\n",
       "      <td>6.87</td>\n",
       "      <td>42450</td>\n",
       "      <td>1</td>\n",
       "      <td>0</td>\n",
       "      <td>0</td>\n",
       "      <td>0</td>\n",
       "    </tr>\n",
       "  </tbody>\n",
       "</table>\n",
       "</div>"
      ],
      "text/plain": [
       "  Car_Name  Year  Selling_Price  Present_Price  Driven_kms  Fuel_Type  \\\n",
       "0     ritz  2014           3.35           5.59       27000          0   \n",
       "1      sx4  2013           4.75           9.54       43000          1   \n",
       "2     ciaz  2017           7.25           9.85        6900          0   \n",
       "3  wagon r  2011           2.85           4.15        5200          0   \n",
       "4    swift  2014           4.60           6.87       42450          1   \n",
       "\n",
       "   Selling_type  Transmission  Owner  \n",
       "0             0             0      0  \n",
       "1             0             0      0  \n",
       "2             0             0      0  \n",
       "3             0             0      0  \n",
       "4             0             0      0  "
      ]
     },
     "execution_count": 102,
     "metadata": {},
     "output_type": "execute_result"
    }
   ],
   "source": [
    "# View\n",
    "ds.head()"
   ]
  },
  {
   "cell_type": "markdown",
   "id": "cd4311a9",
   "metadata": {},
   "source": [
    "#### Data Scaling "
   ]
  },
  {
   "cell_type": "code",
   "execution_count": 120,
   "id": "a18a5f72",
   "metadata": {},
   "outputs": [
    {
     "name": "stdout",
     "output_type": "stream",
     "text": [
      "X data:\n",
      "\n",
      "      Year  Present_Price  Driven_kms  Fuel_Type  Selling_type  Transmission  \\\n",
      "0    2014           5.59       27000          0             0             0   \n",
      "1    2013           9.54       43000          1             0             0   \n",
      "2    2017           9.85        6900          0             0             0   \n",
      "3    2011           4.15        5200          0             0             0   \n",
      "4    2014           6.87       42450          1             0             0   \n",
      "..    ...            ...         ...        ...           ...           ...   \n",
      "296  2016          11.60       33988          1             0             0   \n",
      "297  2015           5.90       60000          0             0             0   \n",
      "298  2009          11.00       87934          0             0             0   \n",
      "299  2017          12.50        9000          1             0             0   \n",
      "300  2016           5.90        5464          0             0             0   \n",
      "\n",
      "     Owner  \n",
      "0        0  \n",
      "1        0  \n",
      "2        0  \n",
      "3        0  \n",
      "4        0  \n",
      "..     ...  \n",
      "296      0  \n",
      "297      0  \n",
      "298      0  \n",
      "299      0  \n",
      "300      0  \n",
      "\n",
      "[301 rows x 7 columns]\n",
      "\n",
      "Y data:\n",
      "\n",
      " 0       3.35\n",
      "1       4.75\n",
      "2       7.25\n",
      "3       2.85\n",
      "4       4.60\n",
      "       ...  \n",
      "296     9.50\n",
      "297     4.00\n",
      "298     3.35\n",
      "299    11.50\n",
      "300     5.30\n",
      "Name: Selling_Price, Length: 301, dtype: float64\n"
     ]
    }
   ],
   "source": [
    "X = ds.drop(['Car_Name','Selling_Price'],axis=1)    # Data\n",
    "print(\"X data:\\n\\n\",X)\n",
    "Y = ds['Selling_Price']    # Target\n",
    "print(\"\\nY data:\\n\\n\",Y)"
   ]
  },
  {
   "cell_type": "markdown",
   "id": "5c31b600",
   "metadata": {},
   "source": [
    "#### Data Splitting "
   ]
  },
  {
   "cell_type": "code",
   "execution_count": 104,
   "id": "4bcf4b51",
   "metadata": {},
   "outputs": [
    {
     "data": {
      "text/plain": [
       "Selling_Price\n",
       "0.45     8\n",
       "0.60     8\n",
       "5.25     6\n",
       "1.05     5\n",
       "4.50     5\n",
       "        ..\n",
       "8.40     1\n",
       "20.75    1\n",
       "6.95     1\n",
       "0.10     1\n",
       "3.49     1\n",
       "Name: count, Length: 139, dtype: int64"
      ]
     },
     "execution_count": 104,
     "metadata": {},
     "output_type": "execute_result"
    }
   ],
   "source": [
    "# Splitting the data to train and test\n",
    "x_train,x_test,y_train,y_test=train_test_split(X, Y, test_size=0.2)\n",
    "# Checking the train distribution of dependent variable\n",
    "y_train.value_counts()"
   ]
  },
  {
   "cell_type": "markdown",
   "id": "6c16befc",
   "metadata": {},
   "source": [
    "### ML Model Implementation"
   ]
  },
  {
   "cell_type": "markdown",
   "id": "c0485220",
   "metadata": {},
   "source": [
    "##### Linear Regression"
   ]
  },
  {
   "cell_type": "code",
   "execution_count": 79,
   "id": "d4313491",
   "metadata": {},
   "outputs": [
    {
     "name": "stdout",
     "output_type": "stream",
     "text": [
      "R squared Error :  0.8464870294747049\n"
     ]
    }
   ],
   "source": [
    "LinearRegression = LinearRegression()\n",
    "LinearRegression.fit(x_train,y_train)\n",
    "y_pred = LinearRegression.predict(x_test)\n",
    "r2 = metrics.r2_score(y_test, y_pred)\n",
    "print(\"R squared Error : \", r2)"
   ]
  },
  {
   "cell_type": "code",
   "execution_count": 81,
   "id": "a0bb15dc",
   "metadata": {},
   "outputs": [
    {
     "data": {
      "image/png": "[encoded data removed]",
      "text/plain": [
       "<Figure size 640x480 with 1 Axes>"
      ]
     },
     "metadata": {},
     "output_type": "display_data"
    }
   ],
   "source": [
    "plt.scatter(y_test, y_pred)\n",
    "plt.xlabel(\"Actual Price\")\n",
    "plt.ylabel(\"Predicted Price\")\n",
    "plt.title(\"Prices (Linear Regression Model)\")\n",
    "plt.show()"
   ]
  },
  {
   "cell_type": "markdown",
   "id": "d0bddfca",
   "metadata": {},
   "source": [
    "##### Lasso Regression"
   ]
  },
  {
   "cell_type": "code",
   "execution_count": 116,
   "id": "f66bbfdc",
   "metadata": {},
   "outputs": [
    {
     "name": "stdout",
     "output_type": "stream",
     "text": [
      "R squared Error :  0.8477524741691642\n"
     ]
    }
   ],
   "source": [
    "lasso = Lasso()\n",
    "lasso.fit(x_train,y_train)\n",
    "y_pred = lasso.predict(x_test)\n",
    "r2 = metrics.r2_score(y_test, y_pred)\n",
    "print(\"R squared Error : \", r2)"
   ]
  },
  {
   "cell_type": "code",
   "execution_count": 117,
   "id": "2263a5a9",
   "metadata": {},
   "outputs": [
    {
     "data": {
      "image/png": "[encoded data removed]",
      "text/plain": [
       "<Figure size 640x480 with 1 Axes>"
      ]
     },
     "metadata": {},
     "output_type": "display_data"
    }
   ],
   "source": [
    "plt.scatter(y_test, y_pred)\n",
    "plt.xlabel(\"Actual Price\")\n",
    "plt.ylabel(\"Predicted Price\")\n",
    "plt.title(\"Prices (Lasso Regression Model)\")\n",
    "plt.show()"
   ]
  },
  {
   "cell_type": "markdown",
   "id": "96dba50e",
   "metadata": {},
   "source": [
    "##### Random Forest"
   ]
  },
  {
   "cell_type": "code",
   "execution_count": 111,
   "id": "433e918c",
   "metadata": {},
   "outputs": [
    {
     "name": "stdout",
     "output_type": "stream",
     "text": [
      "R squared Error :  0.9281811209629522\n"
     ]
    }
   ],
   "source": [
    "rf = RandomForestRegressor(n_estimators = 100)\n",
    "rf.fit(x_train, y_train)\n",
    "y_pred = rf.predict(x_test)\n",
    "r2 = metrics.r2_score(y_test, y_pred)\n",
    "print(\"R squared Error : \", r2)"
   ]
  },
  {
   "cell_type": "code",
   "execution_count": 112,
   "id": "c7c38d9d",
   "metadata": {},
   "outputs": [
    {
     "data": {
      "image/png": "[encoded data removed]",
      "text/plain": [
       "<Figure size 640x480 with 1 Axes>"
      ]
     },
     "metadata": {},
     "output_type": "display_data"
    }
   ],
   "source": [
    "plt.scatter(y_test, y_pred)\n",
    "plt.xlabel(\"Actual Price\")\n",
    "plt.ylabel(\"Predicted Price\")\n",
    "plt.title(\"Prices (Random Forest Model)\")\n",
    "plt.show()"
   ]
  },
  {
   "cell_type": "markdown",
   "id": "cff987a3",
   "metadata": {},
   "source": [
    "###### Random Forest Model is considered as the best Model"
   ]
  },
  {
   "cell_type": "code",
   "execution_count": null,
   "id": "45124537",
   "metadata": {},
   "outputs": [],
   "source": []
  }
 ],
 "metadata": {
  "kernelspec": {
   "display_name": "Python 3 (ipykernel)",
   "language": "python",
   "name": "python3"
  },
  "language_info": {
   "codemirror_mode": {
    "name": "ipython",
    "version": 3
   },
   "file_extension": ".py",
   "mimetype": "text/x-python",
   "name": "python",
   "nbconvert_exporter": "python",
   "pygments_lexer": "ipython3",
   "version": "3.11.5"
  }
 },
 "nbformat": 4,
 "nbformat_minor": 5
}
